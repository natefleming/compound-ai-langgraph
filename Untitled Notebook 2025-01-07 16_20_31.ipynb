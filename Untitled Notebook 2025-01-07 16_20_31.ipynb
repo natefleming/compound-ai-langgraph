{
 "cells": [
  {
   "cell_type": "code",
   "execution_count": 0,
   "metadata": {
    "application/vnd.databricks.v1+cell": {
     "cellMetadata": {
      "byteLimit": 2048000,
      "rowLimit": 10000
     },
     "inputWidgets": {},
     "nuid": "b833bf36-b8a7-421d-8ba9-73b64ea25d10",
     "showTitle": false,
     "tableResultSettingsMap": {},
     "title": ""
    }
   },
   "outputs": [],
   "source": [
    "%sql\n",
    "\n",
    "\n",
    "select * from dbcks_poc.paws.documents_chunked where id = 1137;"
   ]
  },
  {
   "cell_type": "code",
   "execution_count": 0,
   "metadata": {
    "application/vnd.databricks.v1+cell": {
     "cellMetadata": {},
     "inputWidgets": {},
     "nuid": "0cd6b106-1207-4000-9c48-ec6af617b3c9",
     "showTitle": false,
     "tableResultSettingsMap": {},
     "title": ""
    }
   },
   "outputs": [],
   "source": [
    "They are being held. | We do not foresee this happening in the new OLO system, unless internet is down. If it does, contact PAWS. | | 7 | Customer came to pick up future day's order. | Follow Early Order process . If unable to find the order on expo, advise guest | | 8 | I can't find customer's order on Olo portal. Grill ticket was not printed, and I couldn't find the confirmation email. | If there is a menu mismatch between POS and third party, Postmates, for instance, the Postmates order won't come through the POS. If store chooses to honor the order, please contact Sales Audit team and provide the order | ## Frequently Asked Questions | # | Questions/ Scenario | Answer Store | |---------------------------------------------------------------------------------------------------------------------------------------------|-------------------------------------------------------------------------------------------------------------------------------------------------------------------------------------------------------------------------------------------------------------------------------------------------------------------------------------------------------------------------------------------------------------------------------|---------------------------------------------------| | Customer was charged for online order, but they did not receive order number, and store did not get email confirmation or grill ticket. | If order can be found on Olo dashboard, give out the food and provide the order amount to Sales Audit team to add it to store sales. If order cannot be found on Olo dashboard, explain to customer that we cannot validate if they have placed or paid for the order. If they got charged, that is only a pre-authorization charge. Ring up the order at POS Register manually to collect payment from the customer. | 9 | | Third party delivery orders come in after closing time. | Typically, this occurs due to business hours are not updated on ePAWS . | 10 | | 11 | No, online orders are prepaid. Once paid online, grill tickets are printed automatically. | Do we need to ring up online orders on register? | | Can guest pay online with gift cards? | Yes, guests can use gift card to pay for online order. If there is an issue processing payment using gift card, contact Guest Care. | 12 | | Guests are still able to order the disabled items on third party delivery. | Order won't be sent due to the mismatch between POS menu and the order, but Menu should be updated in next sync cycle, or manually updated by PAWS | 13 | | Customers would like to make food item adjustment to their online order. | Customer can cancel and place another order with the desired menu items. This can only be done when the order status is still \"Scheduled\". | 14 | ## Frequently Asked Questions | # | Question/Scenario | Answer Store Guide | |-----|-------------------------------------------------------------|---------------------------------------------------------------------------------------------------------------------------------------------------------------------------------------------------------------------------------------------------------------------------------------------------------------------------------------------------------------------------------------------------------------------------------------| | 15 | How to check if an order was refunded?"
   ]
  },
  {
   "cell_type": "code",
   "execution_count": 0,
   "metadata": {
    "application/vnd.databricks.v1+cell": {
     "cellMetadata": {},
     "inputWidgets": {},
     "nuid": "1a9fd41b-ec7d-4168-9e73-2234c3bd059f",
     "showTitle": false,
     "tableResultSettingsMap": {},
     "title": ""
    }
   },
   "outputs": [],
   "source": [
    "| Orders cannot be transferred on Olo. Order needs to be cancelled/refunded and reordered in the right location.  For the location that did not receive the order and does not have a ticket and the guest says they paid at the wrong store, advise the guest that they will need to place order and pay at the correct store and request a refund from the incorrect store location. | | 5 | How to print receipts for online orders from previous day? | See print receipt section. | | 6 | ASAP orders are not being printed immediately. They are being held. | We do not foresee this happening in the new OLO system, unless internet is down. If it does, contact PAWS. | | 7 | Customer came to pick up future day’s order. | Follow Early Order process. If unable to find the order on expo, advise guest to cancel and reorder. | | 8 | I can’t find customer’s order on Olo portal. Grill ticket was not printed, and I couldn’t find the confirmation email. | If there is a menu mismatch between POS and third party, Postmates, for instance, the Postmates order won’t come through the POS. If store chooses to honor the order, please contact Sales Audit team and provide the order amount so that it can be added to store’s sales. | # Frequently Asked Questions | # | Questions/ Scenario | Answer Store | |-----|-----------------------------------------------------------------------------------------------------------------------------------------|------------------------------------------------------------------------------------------------------------------------------------------------------------------------------------------------------------------------------------------------------------------------------------------------------------------------------------------------------------------------------------------------------------------------| | 9 | Customer was charged for online order, but they did not receive order number, and store did not get email confirmation or grill ticket. | If order can be found on Olo dashboard, give out the food and provide the order amount to Sales Audit team to add it to store sales. If order cannot be found on Olo dashboard, explain to customer that we cannot validate if they have placed or paid for the order. If they got charged, that is only a pre-authorization charge. Ring up the order at POS Register manually to collect payment from the customer. | | 10 | Third party delivery orders come in after closing time. | Typically, this occurs due to business hours are not updated on ePAWS.  Contact PAWS. | | 11 | Do we need to ring up online orders on register? | No, online orders are prepaid. Once paid online, grill tickets are printed automatically. | | 12 | Can guest pay online with gift cards? | Yes, guests can use gift card to pay for online order. If there is an issue processing payment using gift card, contact Guest Care. | | 13 | Guests are still able to order the disabled items on third party delivery. | Order won’t be sent due to the mismatch between POS menu and the order, but Menu should be updated in next sync cycle, or manually updated by PAWS If store chooses to honor it, store will need to work with Sales Audit team to add the order amount to their sales. | | 14 | Customers would like to make food item adjustment to their online order. | Customer can cancel and place another order with the desired menu items."
   ]
  }
 ],
 "metadata": {
  "application/vnd.databricks.v1+notebook": {
   "computePreferences": null,
   "dashboards": [],
   "environmentMetadata": {
    "base_environment": "",
    "client": "1"
   },
   "language": "sql",
   "notebookMetadata": {
    "pythonIndentUnit": 4
   },
   "notebookName": "Untitled Notebook 2025-01-07 16_20_31",
   "widgets": {}
  },
  "language_info": {
   "name": "sql"
  }
 },
 "nbformat": 4,
 "nbformat_minor": 0
}
